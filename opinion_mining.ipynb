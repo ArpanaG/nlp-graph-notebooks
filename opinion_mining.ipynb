{
 "cells": [
  {
   "cell_type": "markdown",
   "metadata": {},
   "source": [
    "# A graph based approach to opinion mining\n",
    "\n",
    "Based on the work done by Kavita Ganesan [Opinosis](http://kavita-ganesan.com/opinosis) for mining aspects from product reviews, this notebook fetches product reviews from the Best Buy API and builds a word adjacency graph of the review corpus in Neo4j. Opinions are then minded from the graph using a simplied version of the Opinosis algorithm."
   ]
  },
  {
   "cell_type": "code",
   "execution_count": 1,
   "metadata": {
    "collapsed": true
   },
   "outputs": [],
   "source": [
    "from py2neo import Graph\n",
    "import json\n",
    "import requests\n",
    "import re, string\n",
    "from py2neo.packages.httpstream import http\n",
    "http.socket_timeout = 9999\n"
   ]
  },
  {
   "cell_type": "code",
   "execution_count": 7,
   "metadata": {
    "collapsed": true
   },
   "outputs": [],
   "source": [
    "API_KEY = \"BEST_BUY_API_KEY\"\n",
    "# SKU = \"9439005\" # Kindle\n",
    "# SKU = \"4642026\" # Bose headphones\n",
    "# SKU = \"6422016\" # Samsung TV\n",
    "# SKU = \"3656051\" # Samsung washing machine\n",
    "# SKU = \"2498029\" # Dyson vacuum\n",
    "\n",
    "REQUEST_URL = \"https://api.bestbuy.com/v1/reviews(sku={sku})?apiKey={API_KEY}&show=comment,id,rating,reviewer.name,sku,submissionTime,title&pageSize=100&page={page}&sort=comment.asc&format=json\""
   ]
  },
  {
   "cell_type": "markdown",
   "metadata": {},
   "source": [
    "### Connect to Neo4j instance and define Cypher queries"
   ]
  },
  {
   "cell_type": "code",
   "execution_count": 3,
   "metadata": {
    "collapsed": true
   },
   "outputs": [],
   "source": [
    "graph = Graph()\n",
    "\n",
    "# Build a word adjacency graph for a comment string\n",
    "INSERT_QUERY = '''\n",
    "WITH split(tolower({comment}), \" \") AS words\n",
    "WITH [w in words WHERE NOT w IN [\"the\",\"and\",\"i\", \"it\", \"to\"]] AS text\n",
    "UNWIND range(0,size(text)-2) AS i\n",
    "MERGE (w1:Word {name: text[i]})\n",
    "ON CREATE SET w1.count = 1 ON MATCH SET w1.count = w1.count + 1\n",
    "MERGE (w2:Word {name: text[i+1]})\n",
    "ON CREATE SET w2.count = 1 ON MATCH SET w2.count = w2.count + 1\n",
    "MERGE (w1)-[r:NEXT]->(w2)\n",
    "  ON CREATE SET r.count = 1\n",
    "  ON MATCH SET r.count = r.count + 1;\n",
    "'''\n",
    "\n",
    "OPINION_QUERY = '''\n",
    "MATCH p=(:Word)-[r:NEXT*1..4]->(:Word) WITH p\n",
    "WITH reduce(s = 0, x IN relationships(p) | s + x.count) AS total, p\n",
    "WITH nodes(p) AS text, 1.0*total/size(nodes(p)) AS weight\n",
    "RETURN extract(x IN text | x.name) AS phrase, weight ORDER BY weight DESC LIMIT 10\n",
    "'''"
   ]
  },
  {
   "cell_type": "code",
   "execution_count": 4,
   "metadata": {
    "collapsed": false
   },
   "outputs": [],
   "source": [
    "# define a regular expression to remove punctuation\n",
    "regex = re.compile('[%s]' % re.escape(string.punctuation))\n",
    "# exclude = set(string.punctuation)"
   ]
  },
  {
   "cell_type": "markdown",
   "metadata": {},
   "source": [
    "### Fetch comments from Best Buy API and build word adjaceny graph"
   ]
  },
  {
   "cell_type": "code",
   "execution_count": 5,
   "metadata": {
    "collapsed": false
   },
   "outputs": [],
   "source": [
    "def load_graph(product_sku):\n",
    "    for i in range(1,6):\n",
    "        r = requests.get(REQUEST_URL.format(sku=product_sku, API_KEY=API_KEY, page=str(i)))\n",
    "        data = r.json()\n",
    "        for comment in data[\"reviews\"]:\n",
    "            comments = comment[\"comment\"].split(\".\")\n",
    "            for sentence in comments:\n",
    "                sentence = sentence.strip()\n",
    "                sentence = regex.sub(\"\", sentence)\n",
    "                graph.cypher.execute(INSERT_QUERY, parameters={'comment': sentence})"
   ]
  },
  {
   "cell_type": "markdown",
   "metadata": {},
   "source": [
    "#### Query the graph for opinions\n",
    "Find word paths of 3-5 words with highest number of occurences"
   ]
  },
  {
   "cell_type": "code",
   "execution_count": 6,
   "metadata": {
    "collapsed": false
   },
   "outputs": [],
   "source": [
    "def summarize_opinions():\n",
    "    results = graph.cypher.execute(OPINION_QUERY)\n",
    "    for result in results:\n",
    "        print(str(result.phrase) + \" \" + str(result.weight))"
   ]
  },
  {
   "cell_type": "markdown",
   "metadata": {},
   "source": [
    "### Bose headphones\n",
    "<img src=\"img/bose.png\" align=\"right\" style=\"width:20%;\">\n",
    "* \"They are great sound quality\"\n",
    "* \"Comfortable and the great sound\"\n",
    "* \"These headphones great sound quality\"\n"
   ]
  },
  {
   "cell_type": "code",
   "execution_count": 162,
   "metadata": {
    "collapsed": false,
    "scrolled": true
   },
   "outputs": [
    {
     "name": "stdout",
     "output_type": "stream",
     "text": [
      "['great', 'sound', 'and', 'they', 'are'] 11.0\n",
      "['they', 'are', 'great', 'sound', 'quality'] 10.8\n",
      "['great', 'sound', 'and', 'the', 'sound'] 10.8\n",
      "['the', 'sound', 'great', 'sound', 'quality'] 10.6\n",
      "['of', 'the', 'sound', 'quality'] 10.5\n",
      "['comfortable', 'and', 'the', 'sound', 'quality'] 10.4\n",
      "['of', 'the', 'sound', 'great', 'sound'] 10.2\n",
      "['these', 'headphones', 'great', 'sound', 'quality'] 10.2\n",
      "['and', 'the', 'sound', 'quality'] 10.0\n",
      "['the', 'sound', 'and', 'they', 'are'] 10.0\n"
     ]
    }
   ],
   "source": [
    "graph.cypher.execute(\"MATCH A DETACH DELETE A;\")\n",
    "load_graph(\"4642026\")\n",
    "summarize_opinions()"
   ]
  },
  {
   "cell_type": "markdown",
   "metadata": {},
   "source": [
    "### Samsung TV\n",
    "<img src=\"img/tv.png\" align=\"left\" style=\"width:20%;\">\n",
    "* \"Bought this smart TV for the price\""
   ]
  },
  {
   "cell_type": "code",
   "execution_count": 7,
   "metadata": {
    "collapsed": false
   },
   "outputs": [
    {
     "name": "stdout",
     "output_type": "stream",
     "text": [
      "['this', 'tv', 'for', 'the'] 67.25\n",
      "['this', 'tv', 'for', 'the', 'tv'] 66.0\n",
      "['this', 'tv', 'for', 'the', 'price'] 65.6\n",
      "['bought', 'this', 'tv', 'for', 'the'] 65.0\n",
      "['this', 'tv', 'for', 'the', 'picture'] 62.8\n",
      "['got', 'this', 'tv', 'for', 'the'] 62.2\n",
      "['this', 'tv', 'for', 'the', 'smart'] 61.6\n",
      "['smart', 'tv', 'for', 'the', 'tv'] 58.6\n",
      "['this', 'tv', 'for', 'the', 'xbox'] 58.6\n",
      "['smart', 'tv', 'for', 'the', 'price'] 58.2\n"
     ]
    }
   ],
   "source": [
    "graph.cypher.execute(\"MATCH A DETACH DELETE A;\")\n",
    "load_graph(\"6422016\")\n",
    "summarize_opinions()"
   ]
  },
  {
   "cell_type": "markdown",
   "metadata": {},
   "source": [
    "### Amazon Kindle\n",
    "<img src=\"img/kindle.png\" align=\"right\" style=\"width:20%;\">\n",
    "* \"Easy to read\"\n",
    "* \"Easy to read in the light\""
   ]
  },
  {
   "cell_type": "code",
   "execution_count": 8,
   "metadata": {
    "collapsed": false
   },
   "outputs": [
    {
     "name": "stdout",
     "output_type": "stream",
     "text": [
      "['easy', 'to', 'read', 'in'] 76.5\n",
      "['easy', 'to', 'read', 'in', 'the'] 73.8\n",
      "['and', 'easy', 'to', 'read'] 73.0\n",
      "['is', 'easy', 'to', 'read'] 71.5\n",
      "['very', 'easy', 'to', 'read'] 71.25\n",
      "['easy', 'to', 'read', 'and'] 70.75\n",
      "['this', 'is', 'easy', 'to', 'read'] 70.6\n",
      "['easy', 'to', 'read', 'at'] 70.5\n",
      "['easy', 'to', 'read', 'the', 'kindle'] 70.4\n",
      "['easy', 'to', 'read', 'books'] 70.25\n"
     ]
    }
   ],
   "source": [
    "graph.cypher.execute(\"MATCH A DETACH DELETE A;\")\n",
    "load_graph(\"9439005\")\n",
    "summarize_opinions()\n"
   ]
  },
  {
   "cell_type": "markdown",
   "metadata": {},
   "source": [
    "### Samsung washer\n",
    "<img src=\"img/washer.png\" align=\"left\" style=\"width:20%;\">\n",
    "* \"I love this washer\""
   ]
  },
  {
   "cell_type": "code",
   "execution_count": 12,
   "metadata": {
    "collapsed": false
   },
   "outputs": [
    {
     "name": "stdout",
     "output_type": "stream",
     "text": [
      "['this', 'washer'] 62.0\n",
      "['this', 'washer', 'is', 'a'] 59.75\n",
      "['this', 'washer', 'is'] 59.666666666666664\n",
      "['this', 'washer', 'and'] 55.333333333333336\n",
      "['this', 'washer', 'and', 'the'] 52.5\n",
      "['with', 'this', 'washer', 'is'] 52.5\n",
      "['i', 'love', 'this', 'washer'] 52.0\n",
      "['this', 'washer', 'and', 'i'] 51.75\n",
      "['with', 'this', 'washer'] 51.666666666666664\n",
      "['this', 'washer', 'is', 'very'] 51.5\n"
     ]
    }
   ],
   "source": [
    "graph.cypher.execute(\"MATCH A DETACH DELETE A;\")\n",
    "load_graph(\"3656051\")\n",
    "summarize_opinions()\n"
   ]
  },
  {
   "cell_type": "markdown",
   "metadata": {},
   "source": [
    "### Dyson vacuum\n",
    "<img src=\"img/dyson.png\" align=\"right\" style=\"width:20%;\">\n",
    "* \"Easy to use this vacuum\""
   ]
  },
  {
   "cell_type": "code",
   "execution_count": 21,
   "metadata": {
    "collapsed": false
   },
   "outputs": [
    {
     "name": "stdout",
     "output_type": "stream",
     "text": [
      "['this', 'vacuum', 'is', 'easy', 'to'] 238\n",
      "['easy', 'to', 'this', 'vacuum', 'is'] 223\n",
      "['this', 'vacuum', 'and', 'easy', 'to'] 213\n",
      "['is', 'easy', 'to', 'this', 'vacuum'] 212\n",
      "['it', 'is', 'easy', 'to', 'use'] 211\n",
      "['easy', 'to', 'this', 'vacuum', 'cleaner'] 210\n",
      "['and', 'easy', 'to', 'this', 'vacuum'] 208\n",
      "['very', 'easy', 'to', 'this', 'vacuum'] 208\n",
      "['easy', 'to', 'this', 'vacuum', 'i'] 206\n",
      "['easy', 'to', 'get', 'this', 'vacuum'] 206\n"
     ]
    }
   ],
   "source": [
    "graph.cypher.execute(\"MATCH A DETACH DELETE A;\")\n",
    "load_graph(\"2498029\")\n",
    "summarize_opinions()"
   ]
  },
  {
   "cell_type": "code",
   "execution_count": null,
   "metadata": {
    "collapsed": true
   },
   "outputs": [],
   "source": []
  },
  {
   "cell_type": "code",
   "execution_count": null,
   "metadata": {
    "collapsed": true
   },
   "outputs": [],
   "source": []
  }
 ],
 "metadata": {
  "kernelspec": {
   "display_name": "Python 3",
   "language": "python",
   "name": "python3"
  },
  "language_info": {
   "codemirror_mode": {
    "name": "ipython",
    "version": 3
   },
   "file_extension": ".py",
   "mimetype": "text/x-python",
   "name": "python",
   "nbconvert_exporter": "python",
   "pygments_lexer": "ipython3",
   "version": "3.5.0"
  }
 },
 "nbformat": 4,
 "nbformat_minor": 0
}
