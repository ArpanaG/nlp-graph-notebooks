{
 "cells": [
  {
   "cell_type": "markdown",
   "metadata": {},
   "source": [
    "## Graph based content recommendation using keyword extraction\n",
    "\n",
    "This notebook uses a small sample of articles to demonstrate how a content based recommendation system can be implemented using the Neo4j graph database. A small sample of articles of interest are used to seed the graph. Keyword extraction is performed using the [newspaper python library](https://github.com/codelucas/newspaper). Candidate articles for recommendation are then scraped and inserted into the graph model. Content based graph queries are then used to generate article recommendations based on the user's interest.\n",
    "\n",
    "![](https://dl.dropboxusercontent.com/u/67572426/Screenshot%202016-01-15%2018.09.47.png)"
   ]
  },
  {
   "cell_type": "code",
   "execution_count": 46,
   "metadata": {
    "collapsed": false
   },
   "outputs": [],
   "source": [
    "import requests\n",
    "import newspaper\n",
    "from newspaper import Article\n",
    "from xml.etree import ElementTree\n",
    "from py2neo import Graph"
   ]
  },
  {
   "cell_type": "code",
   "execution_count": 65,
   "metadata": {
    "collapsed": true
   },
   "outputs": [],
   "source": [
    "graph = Graph()"
   ]
  },
  {
   "cell_type": "code",
   "execution_count": 64,
   "metadata": {
    "collapsed": true
   },
   "outputs": [],
   "source": [
    "INSERT_ARTICLE_QUERY = '''\n",
    "    MERGE (u:URL {url: {url}})\n",
    "    SET u.title = {title}\n",
    "    FOREACH (keyword IN {keywords} | MERGE (k:Keyword {text: keyword}) CREATE UNIQUE (k)<-[:IS_ABOUT]-(u) )\n",
    "    FOREACH (img IN {images} | MERGE (i:Image {url: img})<-[:WITH_IMAGE]-(u) )\n",
    "    FOREACH (vid IN {videos} | MERGE (v:Video {url: vid})<-[:WITH_VIDEO]-(u) )\n",
    "    FOREACH (author IN {authors} | MERGE (a:Author {name: author})<-[:AUTHORED_BY]-(u) )    \n",
    "'''\n",
    "\n",
    "INSERT_LIKED_QUERY = '''\n",
    "    MERGE (u:User {name: {username}})\n",
    "    MERGE (a:URL {url: {url}})\n",
    "    CREATE UNIQUE (u)-[:LIKED]->(a)\n",
    "'''"
   ]
  },
  {
   "cell_type": "code",
   "execution_count": null,
   "metadata": {
    "collapsed": true
   },
   "outputs": [],
   "source": [
    "# insert liked articles\n",
    "for u in liked_articles:\n",
    "    insertLikedArticle(\"lyonwj\", u)\n",
    "    article = newspaper_article(u)\n",
    "    writeToGraph(article)\n",
    "    \n"
   ]
  },
  {
   "cell_type": "code",
   "execution_count": 67,
   "metadata": {
    "collapsed": false
   },
   "outputs": [],
   "source": [
    "# insert newspaper articles\n",
    "for url in newspapers:\n",
    "    p = newspaper.build(url)\n",
    "    for article in p.articles:\n",
    "        parsed_a = newspaper_article(article.url)\n",
    "        writeToGraph(parsed_a)"
   ]
  },
  {
   "cell_type": "code",
   "execution_count": 59,
   "metadata": {
    "collapsed": true
   },
   "outputs": [],
   "source": [
    "# articles from the read later queue\n",
    "liked_articles = [\n",
    "    'http://paulgraham.com/ineq.html',\n",
    "    'https://codewords.recurse.com/issues/five/what-restful-actually-means',\n",
    "    'http://priceonomics.com/the-history-of-the-black-scholes-formula/',\n",
    "    'https://buildingrecommenders.wordpress.com/2015/11/16/overview-of-recommender-algorithms-part-1/',\n",
    "    'http://blog.crew.co/makers-and-managers/',\n",
    "    'http://www.lrb.co.uk/v37/n22/jacqueline-rose/bantu-in-the-bathroom',\n",
    "    'http://www.techrepublic.com/article/how-the-paypal-mafia-redefined-success-in-silicon-valley/',\n",
    "    'http://www.bloomberg.com/bw/articles/2012-07-10/how-the-mormons-make-money',\n",
    "    'https://jasonrogena.github.io/2015/10/09/matatus-route-planning-using-neo4j.html',\n",
    "    'http://efavdb.com/principal-component-analysis/',\n",
    "    'http://www.tsartsaris.gr/How-to-write-faster-from-Python-to-Neo4j-with-OpenMpi',\n",
    "    'http://burakkanber.com/blog/machine-learning-full-text-search-in-javascript-relevance-scoring/',\n",
    "    'https://www.pubnub.com/blog/2015-10-22-turning-neo4j-realtime-database/',\n",
    "    'http://www.greatfallstribune.com/story/news/local/2016/01/12/montana-coal-mine-deal-includes-secret-side-settlement/78697796/',\n",
    "    'http://billingsgazette.com/news/opinion/editorial/gazette-opinion/a-big-win-for-montana-businesses-taxpayers/article_ffa8c111-ce4b-508f-8813-8337b6d9a4b2.html',\n",
    "    'http://billingsgazette.com/news/state-and-regional/montana/appeals-court-says-one-time-billionaire-will-stay-in-montana/article_90e41f92-60a5-5685-90ba-ad63721715c7.html',\n",
    "    'http://missoulian.com/news/state-and-regional/missoula-man-seeks-a-fortune-in-anaconda-slag/article_c1fa2a2a-3468-56fe-a794-814f83a8eb6a.html',\n",
    "    'http://www.theverge.com/2015/9/30/9416579/spotify-discover-weekly-online-music-curation-interview',\n",
    "    'https://theintercept.com/2015/09/09/makers-zero-dark-thirty-seduced-cia-tequila-fake-earrings/',\n",
    "    'https://www.quantamagazine.org/20150903-the-road-less-traveled/',\n",
    "    'https://medium.com/@bolerio/scheduling-tasks-and-drawing-graphs-the-coffman-graham-algorithm-3c85eb975ab#.xm0lpx2l3',\n",
    "    'http://www.datastax.com/dev/blog/tales-from-the-tinkerpop',\n",
    "    'http://open.blogs.nytimes.com/2015/08/11/building-the-next-new-york-times-recommendation-engine/?_r=0',\n",
    "    'http://www.economist.com/news/americas/21660149-voters-are-about-start-choosing-next-president-scion-and-heir?fsrc=scn/tw/te/pe/ed/TheScionAndTheHeir',\n",
    "    'https://lareviewofbooks.org/essay/why-your-rent-is-so-high-and-your-pay-is-so-low-tom-streithorst',\n",
    "    'http://www.economist.com/news/asia/21660551-propaganda-socialist-theme-park-relentless-so-march-money-bread-and-circuses?fsrc=scn/tw/te/pe/ed/BreadAndCircuses',\n",
    "    'http://www.markhneedham.com/blog/2015/08/10/neo4j-2-2-3-unmanaged-extensions-creating-gzipped-streamed-responses-with-jetty/?utm_source=NoSQL+Weekly+Newsletter&utm_campaign=5836be97da-NoSQL_Weekly_Issue_246_August_13_2015&utm_medium=email&utm_term=0_2f0470315b-5836be97da-328632629',\n",
    "    'https://medium.com/@dtauerbach/software-engineers-will-be-obsolete-by-2060-2a214fdf9737#.lac4umwmq',\n",
    "    'http://www.nytimes.com/2015/08/16/opinion/sunday/how-california-is-winning-the-drought.html?action=click&pgtype=Homepage&module=opinion-c-col-right-region&region=opinion-c-col-right-region&WT.nav=opinion-c-col-right-region&_r=1'\n",
    "]\n",
    "\n",
    "# source for potential articles to recommend\n",
    "newspapers = [\n",
    "    'http://cnn.com',\n",
    "    'http://news.ycombinator.com',\n",
    "    'http://nytimes.com',\n",
    "    'http://missoulian.com',\n",
    "    'http://www.washingtonpost.com',\n",
    "    'http://www.reuters.com/',\n",
    "    'http://sfgate.com',\n",
    "    'http://datatau.com',\n",
    "    'http://economist.com',\n",
    "    'http://medium.com',\n",
    "    'http://theverge.com'\n",
    "]"
   ]
  },
  {
   "cell_type": "code",
   "execution_count": 63,
   "metadata": {
    "collapsed": false
   },
   "outputs": [],
   "source": []
  },
  {
   "cell_type": "code",
   "execution_count": 32,
   "metadata": {
    "collapsed": true
   },
   "outputs": [],
   "source": [
    "def insertLikedArticle(username, url):\n",
    "    graph.cypher.execute(INSERT_LIKED_QUERY, {\"username\": username, \"url\": url})"
   ]
  },
  {
   "cell_type": "code",
   "execution_count": 22,
   "metadata": {
    "collapsed": true
   },
   "outputs": [],
   "source": [
    "def writeToGraph(article):\n",
    "\n",
    "    #TODO: better data model, remove unnecessary data from data model\n",
    "    insert_tx = graph.cypher.begin()\n",
    "    insert_tx.append(INSERT_ARTICLE_QUERY, article)\n",
    "    insert_tx.commit()"
   ]
  },
  {
   "cell_type": "code",
   "execution_count": null,
   "metadata": {
    "collapsed": true
   },
   "outputs": [],
   "source": []
  },
  {
   "cell_type": "code",
   "execution_count": 26,
   "metadata": {
    "collapsed": true
   },
   "outputs": [],
   "source": [
    "def newspaper_article(url):\n",
    "    \n",
    "    article = Article(url)\n",
    "    article.download()\n",
    "    article.parse()\n",
    "\n",
    "    try:\n",
    "        html_string = ElementTree.tostring(article.clean_top_node)\n",
    "    except:\n",
    "        html_string = \"Error converting HTML to string\"\n",
    "\n",
    "    try:\n",
    "        article.nlp()\n",
    "    except:\n",
    "        pass\n",
    "\n",
    "    return {\n",
    "        'url': url,\n",
    "        'authors': article.authors,\n",
    "        'title': article.title,\n",
    "        'top_image': article.top_image,\n",
    "        'videos': article.movies,\n",
    "        'keywords': article.keywords,\n",
    "        'images': filter_images(list(article.images))\n",
    "    }"
   ]
  },
  {
   "cell_type": "code",
   "execution_count": 27,
   "metadata": {
    "collapsed": false
   },
   "outputs": [],
   "source": []
  },
  {
   "cell_type": "code",
   "execution_count": 13,
   "metadata": {
    "collapsed": true
   },
   "outputs": [],
   "source": [
    "def filter_images(images):\n",
    "    imgs = []\n",
    "    for img in images:\n",
    "        if img.startswith('http'):\n",
    "            imgs.append(img)\n",
    "    return imgs"
   ]
  },
  {
   "cell_type": "code",
   "execution_count": 68,
   "metadata": {
    "collapsed": false
   },
   "outputs": [],
   "source": [
    "# TODO: generate recommendations"
   ]
  },
  {
   "cell_type": "code",
   "execution_count": null,
   "metadata": {
    "collapsed": false
   },
   "outputs": [],
   "source": []
  },
  {
   "cell_type": "code",
   "execution_count": null,
   "metadata": {
    "collapsed": true
   },
   "outputs": [],
   "source": []
  }
 ],
 "metadata": {
  "kernelspec": {
   "display_name": "Python 3",
   "language": "python",
   "name": "python3"
  },
  "language_info": {
   "codemirror_mode": {
    "name": "ipython",
    "version": 3
   },
   "file_extension": ".py",
   "mimetype": "text/x-python",
   "name": "python",
   "nbconvert_exporter": "python",
   "pygments_lexer": "ipython3",
   "version": "3.5.0"
  }
 },
 "nbformat": 4,
 "nbformat_minor": 0
}
